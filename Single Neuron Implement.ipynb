{
 "cells": [
  {
   "cell_type": "code",
   "execution_count": 1,
   "id": "70993c3d-562a-4e42-aa56-de164be5c479",
   "metadata": {},
   "outputs": [],
   "source": [
    "import math"
   ]
  },
  {
   "cell_type": "code",
   "execution_count": 2,
   "id": "d90a57b3-bcd8-4458-a8c8-957115e26ddb",
   "metadata": {},
   "outputs": [],
   "source": [
    "def sigmoid(x):\n",
    "    return 1 / (1 + math.exp(-x))"
   ]
  },
  {
   "cell_type": "code",
   "execution_count": 3,
   "id": "fb20fb9e-e617-4d5d-b67e-3b545e0f3718",
   "metadata": {},
   "outputs": [
    {
     "name": "stdin",
     "output_type": "stream",
     "text": [
      "How many pairs of x and w values do you want to provide?  2\n",
      "Enter the bias value:  .5\n",
      "Enter x value 1:  2\n",
      "Enter w value 1:  0\n",
      "Enter x value 2:  3\n",
      "Enter w value 2:  1\n"
     ]
    },
    {
     "name": "stdout",
     "output_type": "stream",
     "text": [
      "The output of the neuron is: 3.5\n"
     ]
    }
   ],
   "source": [
    "def simple_neuron(n, bias):\n",
    "    total_sum = 0\n",
    "    for i in range(n):\n",
    "        x = float(input(f\"Enter x value {i+1}: \"))\n",
    "        w = float(input(f\"Enter w value {i+1}: \"))\n",
    "        total_sum += x * w\n",
    "    return total_sum + bias\n",
    "\n",
    "# Example usage\n",
    "n = int(input(\"How many pairs of x and w values do you want to provide? \"))\n",
    "bias = float(input(\"Enter the bias value: \"))\n",
    "result = simple_neuron(n, bias)\n",
    "print(f\"The output of the neuron is: {result}\")\n"
   ]
  },
  {
   "cell_type": "code",
   "execution_count": 8,
   "id": "e07a2d46-890d-4246-8ff2-e4ce7924f94c",
   "metadata": {},
   "outputs": [],
   "source": [
    "final_result = sigmoid(result)"
   ]
  },
  {
   "cell_type": "code",
   "execution_count": 9,
   "id": "602b140c-784f-451a-a97c-559af8fd63c5",
   "metadata": {},
   "outputs": [
    {
     "data": {
      "text/plain": [
       "0.9706877692486436"
      ]
     },
     "execution_count": 9,
     "metadata": {},
     "output_type": "execute_result"
    }
   ],
   "source": [
    "final_result"
   ]
  },
  {
   "cell_type": "code",
   "execution_count": 13,
   "id": "9cb612b4-ad75-4171-9b56-7f7ea1f2b0dd",
   "metadata": {},
   "outputs": [],
   "source": [
    "def classify(output, range=0.5):\n",
    "    if output >= range:\n",
    "        return 1\n",
    "\n",
    "    else:\n",
    "        return 0"
   ]
  },
  {
   "cell_type": "code",
   "execution_count": 14,
   "id": "7590d3e3-1c99-417e-b7ba-0786fd04647d",
   "metadata": {},
   "outputs": [
    {
     "name": "stdout",
     "output_type": "stream",
     "text": [
      "class is:1\n"
     ]
    }
   ],
   "source": [
    "class_level = classify(final_result)\n",
    "print(f\"class is:{class_level}\")"
   ]
  },
  {
   "cell_type": "code",
   "execution_count": 12,
   "id": "ff1fe918-8b57-4c86-83ef-519f10ddcb93",
   "metadata": {},
   "outputs": [
    {
     "name": "stdout",
     "output_type": "stream",
     "text": [
      "class level is : High\n"
     ]
    }
   ],
   "source": [
    "# Define the classify function\n",
    "def classify(output):\n",
    "    return 'High' if output > 0.5 else 'Low'\n",
    "\n",
    "# Example usage\n",
    "class_label = classify(final_result)\n",
    "print(f\"class level is : {class_label}\")\n"
   ]
  },
  {
   "cell_type": "code",
   "execution_count": null,
   "id": "9c71ebc5-5481-4832-a8f9-d2b2ef91f6a3",
   "metadata": {},
   "outputs": [],
   "source": []
  }
 ],
 "metadata": {
  "kernelspec": {
   "display_name": "Python 3 (ipykernel)",
   "language": "python",
   "name": "python3"
  },
  "language_info": {
   "codemirror_mode": {
    "name": "ipython",
    "version": 3
   },
   "file_extension": ".py",
   "mimetype": "text/x-python",
   "name": "python",
   "nbconvert_exporter": "python",
   "pygments_lexer": "ipython3",
   "version": "3.11.7"
  }
 },
 "nbformat": 4,
 "nbformat_minor": 5
}
