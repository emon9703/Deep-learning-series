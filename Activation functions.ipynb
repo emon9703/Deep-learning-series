{
 "cells": [
  {
   "cell_type": "code",
   "execution_count": 1,
   "id": "4618128f-7212-44f1-99bb-4d72da93622f",
   "metadata": {},
   "outputs": [],
   "source": [
    "import numpy as np"
   ]
  },
  {
   "cell_type": "markdown",
   "id": "c5f52bd4-732a-406b-ac45-77458f1faccf",
   "metadata": {},
   "source": [
    "***Relu - Rectified Linear Unit(Hidden Layer)***"
   ]
  },
  {
   "cell_type": "code",
   "execution_count": 2,
   "id": "7291096a-8169-4871-847a-e986852b3e1f",
   "metadata": {},
   "outputs": [],
   "source": [
    "def relu(x):\n",
    "    return np.maximum(0,x)"
   ]
  },
  {
   "cell_type": "code",
   "execution_count": 3,
   "id": "a1683ab0-6316-4b9e-b130-5afe23d06943",
   "metadata": {},
   "outputs": [
    {
     "data": {
      "text/plain": [
       "10"
      ]
     },
     "execution_count": 3,
     "metadata": {},
     "output_type": "execute_result"
    }
   ],
   "source": [
    "relu(10)"
   ]
  },
  {
   "cell_type": "code",
   "execution_count": 4,
   "id": "c8881705-2f05-4223-ad7d-abfaf0bba223",
   "metadata": {},
   "outputs": [
    {
     "data": {
      "text/plain": [
       "0"
      ]
     },
     "execution_count": 4,
     "metadata": {},
     "output_type": "execute_result"
    }
   ],
   "source": [
    "relu(-5)"
   ]
  },
  {
   "cell_type": "code",
   "execution_count": 5,
   "id": "bf2bae33-96db-40f5-8d62-37454986ee40",
   "metadata": {},
   "outputs": [
    {
     "data": {
      "text/plain": [
       "array([0, 0, 1, 2])"
      ]
     },
     "execution_count": 5,
     "metadata": {},
     "output_type": "execute_result"
    }
   ],
   "source": [
    "relu(np.array([-1,0,1,2]))"
   ]
  },
  {
   "cell_type": "markdown",
   "id": "5002072c-eeb7-4ddf-9e76-1673d63f1d9b",
   "metadata": {},
   "source": [
    "***Leaky ReLU(Hidden Layer)***"
   ]
  },
  {
   "cell_type": "code",
   "execution_count": 6,
   "id": "f4af578e-9c6a-41dd-8755-23d91bbdb69c",
   "metadata": {},
   "outputs": [],
   "source": [
    "def leaky_relu(x, alpha = 0.01):\n",
    "    return np.where(x>0, x , x*alpha)"
   ]
  },
  {
   "cell_type": "code",
   "execution_count": 7,
   "id": "47b17402-e52f-4537-bc9b-f1348608b342",
   "metadata": {},
   "outputs": [
    {
     "data": {
      "text/plain": [
       "array(5.)"
      ]
     },
     "execution_count": 7,
     "metadata": {},
     "output_type": "execute_result"
    }
   ],
   "source": [
    "leaky_relu(5)"
   ]
  },
  {
   "cell_type": "code",
   "execution_count": 8,
   "id": "ba9b2e0b-891b-4266-9998-a531ecb29009",
   "metadata": {},
   "outputs": [
    {
     "data": {
      "text/plain": [
       "array(-0.05)"
      ]
     },
     "execution_count": 8,
     "metadata": {},
     "output_type": "execute_result"
    }
   ],
   "source": [
    "leaky_relu(-5)"
   ]
  },
  {
   "cell_type": "markdown",
   "id": "8001f89e-4779-4b4b-bc87-a28b6c9d31ac",
   "metadata": {},
   "source": [
    "***ELU - Exponential Linear Unit(Hidden Layer)***"
   ]
  },
  {
   "cell_type": "code",
   "execution_count": 9,
   "id": "e3df06f8-1493-4f38-8535-3d54ee5ecc09",
   "metadata": {},
   "outputs": [],
   "source": [
    "def elu(x, alpha = 1.0):\n",
    "    return np.where(x > 0 , x , alpha * (np.exp(x)-1))"
   ]
  },
  {
   "cell_type": "code",
   "execution_count": 10,
   "id": "017ce9ed-8e1b-4380-8d99-758c9ea3872d",
   "metadata": {},
   "outputs": [
    {
     "data": {
      "text/plain": [
       "array(5.)"
      ]
     },
     "execution_count": 10,
     "metadata": {},
     "output_type": "execute_result"
    }
   ],
   "source": [
    "elu(5)"
   ]
  },
  {
   "cell_type": "code",
   "execution_count": 11,
   "id": "81b456c1-d711-4d85-a546-4d527d1985b7",
   "metadata": {},
   "outputs": [
    {
     "data": {
      "text/plain": [
       "array(-0.99326205)"
      ]
     },
     "execution_count": 11,
     "metadata": {},
     "output_type": "execute_result"
    }
   ],
   "source": [
    "elu(-5)"
   ]
  },
  {
   "cell_type": "code",
   "execution_count": 12,
   "id": "c551cb59-6220-4239-8c03-c0511130ad2e",
   "metadata": {},
   "outputs": [
    {
     "data": {
      "text/plain": [
       "array([-0.63212056,  0.        ,  1.        ,  2.        ])"
      ]
     },
     "execution_count": 12,
     "metadata": {},
     "output_type": "execute_result"
    }
   ],
   "source": [
    "elu(np.array([-1,0,1,2]))"
   ]
  },
  {
   "cell_type": "markdown",
   "id": "7041979b-e401-4d2c-b758-b6e53e81db48",
   "metadata": {},
   "source": [
    "***Sigmoid(output layer & Binaryclass Problem)***"
   ]
  },
  {
   "cell_type": "code",
   "execution_count": 13,
   "id": "32964135-075b-4c58-a3cd-cd1a96b5db5d",
   "metadata": {},
   "outputs": [],
   "source": [
    "def sigmoid(x):\n",
    "    return 1/(1 + np.exp(-x))"
   ]
  },
  {
   "cell_type": "code",
   "execution_count": 14,
   "id": "06a21b7c-86de-4a15-bb5a-b039279c4593",
   "metadata": {},
   "outputs": [
    {
     "data": {
      "text/plain": [
       "0.0066928509242848554"
      ]
     },
     "execution_count": 14,
     "metadata": {},
     "output_type": "execute_result"
    }
   ],
   "source": [
    "sigmoid(-5)"
   ]
  },
  {
   "cell_type": "code",
   "execution_count": 15,
   "id": "9f9ed346-e5b4-4b7f-9087-96b981011653",
   "metadata": {},
   "outputs": [
    {
     "data": {
      "text/plain": [
       "0.9933071490757153"
      ]
     },
     "execution_count": 15,
     "metadata": {},
     "output_type": "execute_result"
    }
   ],
   "source": [
    "sigmoid(5)"
   ]
  },
  {
   "cell_type": "code",
   "execution_count": 16,
   "id": "4c99487d-1456-44f3-b9b7-5732a9c95f78",
   "metadata": {},
   "outputs": [
    {
     "data": {
      "text/plain": [
       "array([0.26894142, 0.5       , 0.73105858, 0.88079708])"
      ]
     },
     "execution_count": 16,
     "metadata": {},
     "output_type": "execute_result"
    }
   ],
   "source": [
    "sigmoid(np.array([-1,0,1,2]))"
   ]
  },
  {
   "cell_type": "markdown",
   "id": "71584575-9f50-4148-950c-c56fe9afd31f",
   "metadata": {},
   "source": [
    "***Softmax(Output Layer & Multiclass Problem)***"
   ]
  },
  {
   "cell_type": "code",
   "execution_count": 17,
   "id": "afe26d29-195a-4fa6-9b06-c621cf4c4f21",
   "metadata": {},
   "outputs": [],
   "source": [
    "def softmax(x):\n",
    "    e_x = np.exp(x - np.max(x))\n",
    "    return e_x / e_x.sum(axis=0)"
   ]
  },
  {
   "cell_type": "code",
   "execution_count": 18,
   "id": "5bba7722-60b2-436e-8a8c-bf97db360b03",
   "metadata": {},
   "outputs": [],
   "source": [
    "probability = softmax(np.array([2,1,0.5]))"
   ]
  },
  {
   "cell_type": "code",
   "execution_count": 19,
   "id": "97dedcef-512e-4fcc-9ded-f0257b1f808f",
   "metadata": {},
   "outputs": [
    {
     "data": {
      "text/plain": [
       "array([0.62853172, 0.2312239 , 0.14024438])"
      ]
     },
     "execution_count": 19,
     "metadata": {},
     "output_type": "execute_result"
    }
   ],
   "source": [
    "probability"
   ]
  },
  {
   "cell_type": "code",
   "execution_count": 20,
   "id": "6400453b-a8de-4d27-8fe6-209b62df80f0",
   "metadata": {},
   "outputs": [
    {
     "data": {
      "text/plain": [
       "1.0"
      ]
     },
     "execution_count": 20,
     "metadata": {},
     "output_type": "execute_result"
    }
   ],
   "source": [
    "sum(probability)"
   ]
  },
  {
   "cell_type": "markdown",
   "id": "a9ddad2f-c4d4-41a8-9969-21427ad12ad7",
   "metadata": {},
   "source": [
    "***Swish(Hidden Layer)***"
   ]
  },
  {
   "cell_type": "code",
   "execution_count": 21,
   "id": "9678399d-fad5-48f8-a617-7095255dfdee",
   "metadata": {},
   "outputs": [],
   "source": [
    "def swish(x, beta =1.0 ):\n",
    "    return x * sigmoid(beta*x)"
   ]
  },
  {
   "cell_type": "code",
   "execution_count": 22,
   "id": "54ed9033-5c85-4d65-947b-6e37a46f673d",
   "metadata": {},
   "outputs": [
    {
     "data": {
      "text/plain": [
       "4.966535745378576"
      ]
     },
     "execution_count": 22,
     "metadata": {},
     "output_type": "execute_result"
    }
   ],
   "source": [
    "swish(5)"
   ]
  },
  {
   "cell_type": "code",
   "execution_count": 23,
   "id": "0c28eaa7-dfe7-42b1-82cb-2a896b17ad31",
   "metadata": {},
   "outputs": [
    {
     "data": {
      "text/plain": [
       "array([-0.26894142,  0.        ,  0.73105858,  1.76159416])"
      ]
     },
     "execution_count": 23,
     "metadata": {},
     "output_type": "execute_result"
    }
   ],
   "source": [
    "swish(np.array([-1,0,1,2]))"
   ]
  },
  {
   "cell_type": "markdown",
   "id": "04ec9de3-05cc-429d-8c45-c335903d49d0",
   "metadata": {},
   "source": [
    "*** Linear (Output Layer)***"
   ]
  },
  {
   "cell_type": "code",
   "execution_count": 24,
   "id": "980bad9d-762c-4b50-9375-4d809b83b339",
   "metadata": {},
   "outputs": [],
   "source": [
    "def linear(x):\n",
    "    return x"
   ]
  },
  {
   "cell_type": "code",
   "execution_count": 25,
   "id": "cdfec99c-dd84-4940-98bf-3fa992c1116a",
   "metadata": {},
   "outputs": [
    {
     "data": {
      "text/plain": [
       "5"
      ]
     },
     "execution_count": 25,
     "metadata": {},
     "output_type": "execute_result"
    }
   ],
   "source": [
    "linear(5)"
   ]
  },
  {
   "cell_type": "code",
   "execution_count": 26,
   "id": "773da1b8-79a6-4e32-b459-c070fd6d07a2",
   "metadata": {},
   "outputs": [
    {
     "data": {
      "text/plain": [
       "-5"
      ]
     },
     "execution_count": 26,
     "metadata": {},
     "output_type": "execute_result"
    }
   ],
   "source": [
    "linear(-5)"
   ]
  },
  {
   "cell_type": "markdown",
   "id": "bab46aed-6cc2-48af-8939-c71d53c20b00",
   "metadata": {},
   "source": [
    "***Tanh (Hyperbolic Tangent)***"
   ]
  },
  {
   "cell_type": "code",
   "execution_count": 27,
   "id": "4521a0b4-2a8b-4f07-92ca-5b4cc6b3112e",
   "metadata": {},
   "outputs": [],
   "source": [
    "def tanh(x):\n",
    "    return np.tanh(x)"
   ]
  },
  {
   "cell_type": "code",
   "execution_count": 28,
   "id": "21219c57-a07a-4911-9ec4-73eff48b5def",
   "metadata": {},
   "outputs": [
    {
     "data": {
      "text/plain": [
       "-0.9999092042625951"
      ]
     },
     "execution_count": 28,
     "metadata": {},
     "output_type": "execute_result"
    }
   ],
   "source": [
    "tanh(-5)"
   ]
  },
  {
   "cell_type": "code",
   "execution_count": 29,
   "id": "db75c77a-1600-4c7b-ad8f-a35f00d31eb5",
   "metadata": {},
   "outputs": [
    {
     "data": {
      "text/plain": [
       "0.9999092042625951"
      ]
     },
     "execution_count": 29,
     "metadata": {},
     "output_type": "execute_result"
    }
   ],
   "source": [
    "tanh(5)"
   ]
  },
  {
   "cell_type": "code",
   "execution_count": 30,
   "id": "875b1d05-8c9d-414d-8f2c-ef0b8f7b131e",
   "metadata": {},
   "outputs": [
    {
     "data": {
      "text/plain": [
       "array([-0.76159416,  0.        ,  0.76159416,  0.96402758])"
      ]
     },
     "execution_count": 30,
     "metadata": {},
     "output_type": "execute_result"
    }
   ],
   "source": [
    "tanh(np.array([-1,0,1,2]))"
   ]
  },
  {
   "cell_type": "code",
   "execution_count": 31,
   "id": "81c43142-8602-4f0b-b1ef-c111f912bc23",
   "metadata": {},
   "outputs": [],
   "source": [
    "#another way\n",
    "import math"
   ]
  },
  {
   "cell_type": "code",
   "execution_count": 32,
   "id": "3f4b8ac3-37c0-4052-ab9e-8a22af6cd48f",
   "metadata": {},
   "outputs": [],
   "source": [
    "def tanh(x):\n",
    "    result = (math.exp(x) - math.exp(-x)) / (math.exp(x) + math.exp(-x))\n",
    "    return result"
   ]
  },
  {
   "cell_type": "code",
   "execution_count": 33,
   "id": "f41e38a0-28e2-4264-b359-920fa979b995",
   "metadata": {},
   "outputs": [
    {
     "data": {
      "text/plain": [
       "-0.999909204262595"
      ]
     },
     "execution_count": 33,
     "metadata": {},
     "output_type": "execute_result"
    }
   ],
   "source": [
    "tanh(-5)"
   ]
  },
  {
   "cell_type": "code",
   "execution_count": 34,
   "id": "d5008849-e162-4b08-b471-9951eb1f3dd0",
   "metadata": {},
   "outputs": [
    {
     "data": {
      "text/plain": [
       "0.999909204262595"
      ]
     },
     "execution_count": 34,
     "metadata": {},
     "output_type": "execute_result"
    }
   ],
   "source": [
    "tanh(5)"
   ]
  },
  {
   "cell_type": "code",
   "execution_count": 36,
   "id": "f89352e6-73fe-4f90-904a-e14bc0eb252f",
   "metadata": {},
   "outputs": [
    {
     "ename": "TypeError",
     "evalue": "only length-1 arrays can be converted to Python scalars",
     "output_type": "error",
     "traceback": [
      "\u001b[1;31m---------------------------------------------------------------------------\u001b[0m",
      "\u001b[1;31mTypeError\u001b[0m                                 Traceback (most recent call last)",
      "Cell \u001b[1;32mIn[36], line 1\u001b[0m\n\u001b[1;32m----> 1\u001b[0m tanh(np\u001b[38;5;241m.\u001b[39marray([\u001b[38;5;241m-\u001b[39m\u001b[38;5;241m1\u001b[39m,\u001b[38;5;241m0\u001b[39m,\u001b[38;5;241m1\u001b[39m,\u001b[38;5;241m2\u001b[39m]))\n",
      "Cell \u001b[1;32mIn[32], line 2\u001b[0m, in \u001b[0;36mtanh\u001b[1;34m(x)\u001b[0m\n\u001b[0;32m      1\u001b[0m \u001b[38;5;28;01mdef\u001b[39;00m \u001b[38;5;21mtanh\u001b[39m(x):\n\u001b[1;32m----> 2\u001b[0m     result \u001b[38;5;241m=\u001b[39m (math\u001b[38;5;241m.\u001b[39mexp(x) \u001b[38;5;241m-\u001b[39m math\u001b[38;5;241m.\u001b[39mexp(\u001b[38;5;241m-\u001b[39mx)) \u001b[38;5;241m/\u001b[39m (math\u001b[38;5;241m.\u001b[39mexp(x) \u001b[38;5;241m+\u001b[39m math\u001b[38;5;241m.\u001b[39mexp(\u001b[38;5;241m-\u001b[39mx))\n\u001b[0;32m      3\u001b[0m     \u001b[38;5;28;01mreturn\u001b[39;00m result\n",
      "\u001b[1;31mTypeError\u001b[0m: only length-1 arrays can be converted to Python scalars"
     ]
    }
   ],
   "source": [
    "tanh(np.array([-1,0,1,2]))"
   ]
  },
  {
   "cell_type": "code",
   "execution_count": null,
   "id": "2e3abf1f-121a-4783-9235-92143f450430",
   "metadata": {},
   "outputs": [],
   "source": []
  }
 ],
 "metadata": {
  "kernelspec": {
   "display_name": "Python 3 (ipykernel)",
   "language": "python",
   "name": "python3"
  },
  "language_info": {
   "codemirror_mode": {
    "name": "ipython",
    "version": 3
   },
   "file_extension": ".py",
   "mimetype": "text/x-python",
   "name": "python",
   "nbconvert_exporter": "python",
   "pygments_lexer": "ipython3",
   "version": "3.11.7"
  }
 },
 "nbformat": 4,
 "nbformat_minor": 5
}
